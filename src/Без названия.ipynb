{
 "cells": [
  {
   "cell_type": "code",
   "execution_count": null,
   "id": "40902601",
   "metadata": {},
   "outputs": [],
   "source": [
    "import tkinter as tk\n",
    "def se():\n",
    "    a=str()\n",
    "    tk.Entry(textvariable=a).pack()\n",
    "    \n",
    "window=tk.Tk()\n",
    "se()\n",
    "se()\n",
    "se()\n",
    "window.mainloop()"
   ]
  },
  {
   "cell_type": "code",
   "execution_count": 3,
   "id": "d929cbfd",
   "metadata": {},
   "outputs": [],
   "source": []
  },
  {
   "cell_type": "code",
   "execution_count": null,
   "id": "db79f95b",
   "metadata": {},
   "outputs": [],
   "source": []
  }
 ],
 "metadata": {
  "kernelspec": {
   "display_name": "Python 3 (ipykernel)",
   "language": "python",
   "name": "python3"
  },
  "language_info": {
   "codemirror_mode": {
    "name": "ipython",
    "version": 3
   },
   "file_extension": ".py",
   "mimetype": "text/x-python",
   "name": "python",
   "nbconvert_exporter": "python",
   "pygments_lexer": "ipython3",
   "version": "3.11.3"
  }
 },
 "nbformat": 4,
 "nbformat_minor": 5
}
